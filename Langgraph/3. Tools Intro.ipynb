{
 "cells": [
  {
   "cell_type": "code",
   "execution_count": 2,
   "id": "3691db5b",
   "metadata": {},
   "outputs": [],
   "source": [
    "from dotenv import load_dotenv\n",
    "from langchain_groq import ChatGroq\n",
    "import os\n",
    "load_dotenv()\n",
    "os.environ['GROQ_API_KEY'] = os.getenv('GROQ_API_KEY')"
   ]
  },
  {
   "cell_type": "code",
   "execution_count": 8,
   "id": "bebc428c",
   "metadata": {},
   "outputs": [],
   "source": [
    "llm = ChatGroq(\n",
    "    model='gemma2-9b-it'\n",
    ")"
   ]
  },
  {
   "cell_type": "code",
   "execution_count": 9,
   "id": "e288e445",
   "metadata": {},
   "outputs": [],
   "source": [
    "from langchain_core.messages import AnyMessage\n",
    "from typing import Annotated, TypedDict, Sequence\n",
    "import operator\n",
    "class AgentState(TypedDict):\n",
    "    messages: Annotated[Sequence[AnyMessage], operator.add]"
   ]
  },
  {
   "cell_type": "code",
   "execution_count": 12,
   "id": "5c71985b",
   "metadata": {},
   "outputs": [],
   "source": [
    "def call_model(state: AgentState):\n",
    "    last_message = state['messages'][-1]\n",
    "    response = llm.invoke(last_message)\n",
    "    return {\n",
    "        \"messages\": [response.content]\n",
    "    }"
   ]
  },
  {
   "cell_type": "code",
   "execution_count": 14,
   "id": "4275fdaa",
   "metadata": {},
   "outputs": [
    {
     "data": {
      "text/plain": [
       "{'messages': [\"Please provide a question or statement so I can assist you. 😊 \\n\\nFor example, you could ask:\\n\\n* What is the weather like today in London?\\n* Can you write a short poem about a cat?\\n* How do I bake a chocolate cake?\\n\\n\\nI'm ready for anything! ✨\\n\"]}"
      ]
     },
     "execution_count": 14,
     "metadata": {},
     "output_type": "execute_result"
    }
   ],
   "source": [
    "call_model({\"messages\": \"Who are you?\"})"
   ]
  },
  {
   "cell_type": "code",
   "execution_count": 18,
   "id": "03d0ca95",
   "metadata": {},
   "outputs": [
    {
     "data": {
      "text/plain": [
       "<langgraph.graph.state.StateGraph at 0x1200c02d0>"
      ]
     },
     "execution_count": 18,
     "metadata": {},
     "output_type": "execute_result"
    }
   ],
   "source": [
    "from langgraph.graph import START, END, MessagesState, StateGraph\n",
    "\n",
    "workflow = StateGraph(AgentState)\n",
    "workflow.add_node(\"LLM\", call_model)\n",
    "workflow.add_edge(START, \"LLM\")\n",
    "workflow.add_edge(\"LLM\", END)"
   ]
  },
  {
   "cell_type": "code",
   "execution_count": 19,
   "id": "4088aade",
   "metadata": {},
   "outputs": [],
   "source": [
    "app = workflow.compile()"
   ]
  },
  {
   "cell_type": "code",
   "execution_count": 22,
   "id": "fed245d8",
   "metadata": {},
   "outputs": [],
   "source": [
    "response = app.invoke({\"messages\": [\"Who are you?\"]})"
   ]
  },
  {
   "cell_type": "code",
   "execution_count": 24,
   "id": "feaf0dfc",
   "metadata": {},
   "outputs": [
    {
     "data": {
      "image/png": "[encoded data removed]",
      "text/plain": [
       "<IPython.core.display.Image object>"
      ]
     },
     "metadata": {},
     "output_type": "display_data"
    }
   ],
   "source": [
    "from IPython.display import display, Image\n",
    "display(Image(app.get_graph().draw_mermaid_png()))"
   ]
  },
  {
   "cell_type": "code",
   "execution_count": 25,
   "id": "25ebf13e",
   "metadata": {},
   "outputs": [
    {
     "name": "stdout",
     "output_type": "stream",
     "text": [
      "LLM\n",
      "__________________\n",
      "{'messages': [\"I am Gemma, an open-weights AI assistant. I am a large language model trained by Google DeepMind.\\n\\nEssentially, I'm a computer program that can understand and generate human-like text. I can answer your questions, write stories, summarize information, translate languages, and much more.\\n\\nBecause my weights are open, anyone can access and use me, which means developers and researchers can tinker with me, understand how I work, and even build upon my abilities.\\n\"]}\n"
     ]
    }
   ],
   "source": [
    "for output in app.stream({\"messages\": [\"Who are you?\"]}):\n",
    "    for key,value in output.items():\n",
    "        print(key)\n",
    "        print(\"__________________\")\n",
    "        print(value)"
   ]
  },
  {
   "cell_type": "code",
   "execution_count": 28,
   "id": "3be9fa23",
   "metadata": {},
   "outputs": [],
   "source": [
    "from langchain_core.tools import tool\n",
    "@tool\n",
    "def search(query:str):\n",
    "    \"\"\"this is my custom tool for searching a weather\"\"\"\n",
    "    if \"delhi\" in query.lower():\n",
    "        return \"the temp is 45 degree and sunny\"\n",
    "    return \"the temp is 25 degree and cloudy\""
   ]
  },
  {
   "cell_type": "code",
   "execution_count": 31,
   "id": "98eaf40c",
   "metadata": {},
   "outputs": [
    {
     "data": {
      "text/plain": [
       "'the temp is 25 degree and cloudy'"
      ]
     },
     "execution_count": 31,
     "metadata": {},
     "output_type": "execute_result"
    }
   ],
   "source": [
    "search.invoke(\"what is a tempurature in kashmir?\")"
   ]
  },
  {
   "cell_type": "code",
   "execution_count": 32,
   "id": "46f66d9e",
   "metadata": {},
   "outputs": [],
   "source": [
    "tools = [search]\n",
    "llm_with_tools = llm.bind_tools(tools)\n"
   ]
  },
  {
   "cell_type": "code",
   "execution_count": 34,
   "id": "92aa4847",
   "metadata": {},
   "outputs": [],
   "source": [
    "response = llm_with_tools.invoke('what is a tempurature in kashmir?')"
   ]
  },
  {
   "cell_type": "code",
   "execution_count": 40,
   "id": "ee44e5be",
   "metadata": {},
   "outputs": [
    {
     "data": {
      "text/plain": [
       "[{'name': 'search',\n",
       "  'args': {'query': 'what is the temperature in kashmir'},\n",
       "  'id': 'ebt7fe59m',\n",
       "  'type': 'tool_call'}]"
      ]
     },
     "execution_count": 40,
     "metadata": {},
     "output_type": "execute_result"
    }
   ],
   "source": [
    "response.tool_calls"
   ]
  },
  {
   "cell_type": "code",
   "execution_count": 41,
   "id": "f55e8b5c",
   "metadata": {},
   "outputs": [],
   "source": [
    "def router_function(state: MessagesState):\n",
    "    message=state['messages']\n",
    "    last_message=message[-1]\n",
    "    if last_message.tool_calls:\n",
    "        return 'tools'\n",
    "    return END"
   ]
  },
  {
   "cell_type": "code",
   "execution_count": null,
   "id": "eacca701",
   "metadata": {},
   "outputs": [],
   "source": [
    "from langgraph.prebuilt import ToolNode\n",
    "tool_node = ToolNode(tools)"
   ]
  },
  {
   "cell_type": "code",
   "execution_count": null,
   "id": "16ad0fbf",
   "metadata": {},
   "outputs": [],
   "source": [
    "workflow = StateGraph(MessagesState)\n",
    "workflow.add_node(\"search\", search)\n",
    "workflow.add_node(\"\", )"
   ]
  },
  {
   "cell_type": "code",
   "execution_count": null,
   "id": "997bd1c6",
   "metadata": {},
   "outputs": [],
   "source": [
    "from langchain_core.tools import tool\n"
   ]
  }
 ],
 "metadata": {
  "kernelspec": {
   "display_name": "myenv",
   "language": "python",
   "name": "python3"
  },
  "language_info": {
   "codemirror_mode": {
    "name": "ipython",
    "version": 3
   },
   "file_extension": ".py",
   "mimetype": "text/x-python",
   "name": "python",
   "nbconvert_exporter": "python",
   "pygments_lexer": "ipython3",
   "version": "3.13.1"
  }
 },
 "nbformat": 4,
 "nbformat_minor": 5
}
