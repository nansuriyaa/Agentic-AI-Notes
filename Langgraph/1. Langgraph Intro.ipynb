{
 "cells": [
  {
   "cell_type": "code",
   "execution_count": 91,
   "id": "77c2cc40",
   "metadata": {},
   "outputs": [],
   "source": [
    "from typing import TypedDict, Annotated, Sequence\n",
    "from langchain_core.messages import AnyMessage\n",
    "import operator\n",
    "\n",
    "class AgentState(TypedDict):\n",
    "    messages: Annotated[Sequence[AnyMessage], operator.add]"
   ]
  },
  {
   "cell_type": "code",
   "execution_count": 92,
   "id": "5a30b247",
   "metadata": {},
   "outputs": [],
   "source": [
    "def fun1(state: AgentState):\n",
    "    return {\n",
    "        \"messages\": [\"Hello World! from function 1\"]\n",
    "    }"
   ]
  },
  {
   "cell_type": "code",
   "execution_count": 93,
   "id": "5fc677db",
   "metadata": {},
   "outputs": [],
   "source": [
    "def fun2(state: AgentState):\n",
    "    return {\n",
    "        \"messages\": [\"Hello World! from function 2\"]\n",
    "    }"
   ]
  },
  {
   "cell_type": "code",
   "execution_count": 94,
   "id": "3ebf6fbd",
   "metadata": {},
   "outputs": [],
   "source": [
    "from langgraph.graph import START, END, StateGraph\n",
    "workflow = StateGraph(AgentState)\n",
    "workflow.add_node(\"fun1\", fun1)\n",
    "workflow.add_node(\"fun2\", fun2)\n",
    "workflow.add_edge(\"fun1\", \"fun2\")\n",
    "workflow.set_entry_point(\"fun1\")\n",
    "workflow.set_finish_point(\"fun2\")\n",
    "app = workflow.compile()"
   ]
  },
  {
   "cell_type": "code",
   "execution_count": 95,
   "id": "f1f8c126",
   "metadata": {},
   "outputs": [],
   "source": [
    "response = app.invoke({\"messages\": [\"Hi hello How are you?\"]})"
   ]
  },
  {
   "cell_type": "code",
   "execution_count": 96,
   "id": "60660f8b",
   "metadata": {},
   "outputs": [
    {
     "data": {
      "text/plain": [
       "{'messages': ['Hi hello How are you?',\n",
       "  'Hello World! from function 1',\n",
       "  'Hello World! from function 2']}"
      ]
     },
     "execution_count": 96,
     "metadata": {},
     "output_type": "execute_result"
    }
   ],
   "source": [
    "response"
   ]
  },
  {
   "cell_type": "code",
   "execution_count": 97,
   "id": "bc2c773d",
   "metadata": {},
   "outputs": [
    {
     "data": {
      "image/png": "[encoded data removed]",
      "text/plain": [
       "<IPython.core.display.Image object>"
      ]
     },
     "metadata": {},
     "output_type": "display_data"
    }
   ],
   "source": [
    "from IPython.display import display, Image\n",
    "display(Image(app.get_graph().draw_mermaid_png()))"
   ]
  },
  {
   "cell_type": "code",
   "execution_count": 98,
   "id": "193b7b0f",
   "metadata": {},
   "outputs": [
    {
     "name": "stdout",
     "output_type": "stream",
     "text": [
      "Here is output from fun1\n",
      "________________________________\n",
      "{'messages': ['Hello World! from function 1']}\n",
      "\n",
      "\n",
      "Here is output from fun2\n",
      "________________________________\n",
      "{'messages': ['Hello World! from function 2']}\n",
      "\n",
      "\n"
     ]
    }
   ],
   "source": [
    "for output in app.stream({\"messages\": [\"Hi hello How are you?\"]}):\n",
    "    for key, value in output.items():\n",
    "        print(f\"Here is output from {key}\")\n",
    "        print(\"________________________________\")\n",
    "        print(value)\n",
    "        print('\\n')"
   ]
  },
  {
   "cell_type": "code",
   "execution_count": 99,
   "id": "1960ac34",
   "metadata": {},
   "outputs": [],
   "source": [
    "from typing import TypedDict, Annotated\n",
    "import operator\n",
    "\n",
    "class MessageState(TypedDict):\n",
    "    messages: Annotated[str, operator.add]"
   ]
  },
  {
   "cell_type": "code",
   "execution_count": 100,
   "id": "c27d5f53",
   "metadata": {},
   "outputs": [],
   "source": [
    "def fun1(state: MessageState):\n",
    "    return {\n",
    "        \"messages\": \" | Hello World from Function 1\"\n",
    "    }"
   ]
  },
  {
   "cell_type": "code",
   "execution_count": 101,
   "id": "a4fa064d",
   "metadata": {},
   "outputs": [],
   "source": [
    "def fun2(state: MessageState):\n",
    "    return {\n",
    "        \"messages\": \" | Hello World from Function 2\"\n",
    "    }"
   ]
  },
  {
   "cell_type": "code",
   "execution_count": 102,
   "id": "a4173c36",
   "metadata": {},
   "outputs": [],
   "source": [
    "workflow = StateGraph(MessageState)\n",
    "workflow.add_node(\"fun1\", fun1)\n",
    "workflow.add_node(\"fun2\", fun2)\n",
    "workflow.add_edge(\"fun1\", \"fun2\")\n",
    "workflow.set_entry_point(\"fun1\")\n",
    "workflow.set_finish_point(\"fun2\")\n",
    "app = workflow.compile()"
   ]
  },
  {
   "cell_type": "code",
   "execution_count": 109,
   "id": "84c6129f",
   "metadata": {},
   "outputs": [
    {
     "data": {
      "text/plain": [
       "{'messages': 'Hi I am suriyaa | Hello World from Function 1 | Hello World from Function 2'}"
      ]
     },
     "execution_count": 109,
     "metadata": {},
     "output_type": "execute_result"
    }
   ],
   "source": [
    "app.invoke({\"messages\": \"Hi I am suriyaa\"})"
   ]
  },
  {
   "cell_type": "code",
   "execution_count": 108,
   "id": "33e61464",
   "metadata": {},
   "outputs": [
    {
     "name": "stdout",
     "output_type": "stream",
     "text": [
      "fun1\n",
      "__________\n",
      "{'messages': ' | Hello World from Function 1'}\n",
      "\n",
      "\n",
      "fun2\n",
      "__________\n",
      "{'messages': ' | Hello World from Function 2'}\n",
      "\n",
      "\n"
     ]
    }
   ],
   "source": [
    "for output in app.stream({\"messages\": \"Hello World I am Suriyaa! \"}):\n",
    "    for key,value in output.items():\n",
    "        print(key)\n",
    "        print('__________')\n",
    "        print(value)\n",
    "        print('\\n')"
   ]
  },
  {
   "cell_type": "markdown",
   "id": "cb48761b",
   "metadata": {},
   "source": [
    "### Output Token Counter Project"
   ]
  },
  {
   "cell_type": "code",
   "execution_count": 184,
   "id": "a1d53e99",
   "metadata": {},
   "outputs": [],
   "source": [
    "from typing import TypedDict, Annotated, Sequence\n",
    "from langchain_core.messages import BaseMessage\n",
    "import operator\n",
    "class AgentState(TypedDict):\n",
    "    messages: Annotated[Sequence[BaseMessage], operator.add]"
   ]
  },
  {
   "cell_type": "code",
   "execution_count": 185,
   "id": "60fc90e7",
   "metadata": {},
   "outputs": [],
   "source": [
    "def llm(state: AgentState):\n",
    "    from langchain_google_genai import ChatGoogleGenerativeAI\n",
    "    from langchain_core.messages import AIMessage\n",
    "    \n",
    "    import os\n",
    "    os.environ['GOOGLE_API_KEY'] = os.getenv('GOOGLE_API_KEY')\n",
    "    llm = ChatGoogleGenerativeAI(\n",
    "        model = 'gemini-1.5-flash'\n",
    "    )\n",
    "    question = state['messages']\n",
    "    answer = llm.invoke(question)\n",
    "    return {\n",
    "        \"messages\": [answer]\n",
    "    }\n",
    "    "
   ]
  },
  {
   "cell_type": "code",
   "execution_count": null,
   "id": "32683c5e",
   "metadata": {},
   "outputs": [],
   "source": [
    "def llm_output_token_counter(state: AgentState)->str:\n",
    "    from langchain_core.messages import HumanMessage\n",
    "    ai_answer = state['messages'][-1]\n",
    "    no_of_output_tokens = ai_answer.usage_metadata['output_tokens']\n",
    "    return {\n",
    "        \"messages\": [HumanMessage(content=f\"Total output tokens required to generate the output is {no_of_output_tokens}\")]\n",
    "    }"
   ]
  },
  {
   "cell_type": "code",
   "execution_count": 192,
   "id": "2ebee655",
   "metadata": {},
   "outputs": [],
   "source": [
    "workflow = StateGraph(AgentState)\n",
    "workflow.add_node(\"LLM\", llm)\n",
    "workflow.add_node(\"LLM Output Token Counter\", llm_output_token_counter)\n",
    "workflow.set_entry_point(\"LLM\")\n",
    "workflow.set_finish_point(\"LLM Output Token Counter\")\n",
    "workflow.add_edge(\"LLM\", \"LLM Output Token Counter\")\n",
    "app = workflow.compile()"
   ]
  },
  {
   "cell_type": "code",
   "execution_count": 193,
   "id": "fbb90155",
   "metadata": {},
   "outputs": [
    {
     "data": {
      "image/png": "[encoded data removed]",
      "text/plain": [
       "<IPython.core.display.Image object>"
      ]
     },
     "metadata": {},
     "output_type": "display_data"
    }
   ],
   "source": [
    "from IPython.display import display, Image\n",
    "display(Image(app.get_graph().draw_mermaid_png()))"
   ]
  },
  {
   "cell_type": "code",
   "execution_count": 202,
   "id": "07ef9592",
   "metadata": {},
   "outputs": [
    {
     "name": "stdout",
     "output_type": "stream",
     "text": [
      "content='The capital of India is **New Delhi**.  It\\'s not just a single city, but rather a city within a city.  To understand it properly, you need to differentiate between Delhi and New Delhi:\\n\\n* **Delhi:** This is a much larger historical region, encompassing a vast area and a long, rich history.  It\\'s been a capital city for numerous empires and kingdoms over centuries, leaving behind a diverse architectural and cultural legacy.  Within Delhi, you\\'ll find areas like Old Delhi (Shahjahnabad), known for its bustling markets, Mughal-era architecture, and narrow lanes; and New Delhi, a more planned and modern area.\\n\\n* **New Delhi:** This is the planned city built by the British during the early 20th century as the capital of British India. It\\'s characterized by wide avenues, grand colonial architecture (like Rashtrapati Bhavan – the President\\'s House, and India Gate), and well-organized administrative structures.  New Delhi is the seat of the Indian government, housing Parliament, the Supreme Court, and most ministries.\\n\\nTherefore, while \"Delhi\" refers to the larger historical region, \"New Delhi\" specifically refers to the planned city that serves as the capital of modern India.  It\\'s a complex interplay of history and modernity, with the old and the new existing side-by-side, creating a unique and dynamic urban landscape.  New Delhi is a vibrant metropolis, a hub of political power, and a significant cultural center, reflecting India\\'s rich past and its aspirations for the future.' additional_kwargs={} response_metadata={'prompt_feedback': {'block_reason': 0, 'safety_ratings': []}, 'finish_reason': 'STOP', 'model_name': 'gemini-1.5-flash', 'safety_ratings': []} id='run--23f30c8a-32bd-42ca-9688-a2a381273244-0' usage_metadata={'input_tokens': 12, 'output_tokens': 325, 'total_tokens': 337, 'input_token_details': {'cache_read': 0}}\n"
     ]
    },
    {
     "data": {
      "text/plain": [
       "'Total output tokens required to generate the output is 325'"
      ]
     },
     "execution_count": 202,
     "metadata": {},
     "output_type": "execute_result"
    }
   ],
   "source": [
    "from langchain_core.messages import HumanMessage\n",
    "response = app.invoke({\n",
    "    \"messages\": [HumanMessage(content=\"What is the capital of India and could you explain about it\")]\n",
    "})\n",
    "response['messages'][-1].content"
   ]
  },
  {
   "cell_type": "code",
   "execution_count": 203,
   "id": "1fd1bfd5",
   "metadata": {},
   "outputs": [
    {
     "name": "stdout",
     "output_type": "stream",
     "text": [
      "Output for the following question LLM\n",
      "___________________\n",
      "{'messages': [AIMessage(content='The capital of India is **New Delhi**.  It\\'s not just a single city, but rather a city *within* a larger city – Delhi.  To understand it, you need to grasp the distinction:\\n\\n* **Delhi:**  This is a historical region and a larger administrative territory encompassing several cities and towns.  It has a long and rich history, dating back thousands of years, and has served as a capital under various empires and dynasties.\\n\\n* **New Delhi:** This is a planned city built within the larger Delhi territory during the British Raj (British rule in India).  It became the capital of British India in 1911, and after India\\'s independence in 1947, it continued as the capital of the Republic of India.  New Delhi is more modern in its planning and architecture compared to the older parts of Delhi.\\n\\nSo, while people often use \"Delhi\" and \"New Delhi\" interchangeably,  New Delhi specifically refers to the planned city that houses the main government buildings, embassies, and many important institutions.  It\\'s characterized by wide boulevards, grand colonial-era architecture (a mix of Indo-Saracenic and other styles), and modern high-rises.\\n\\n**Key aspects of New Delhi:**\\n\\n* **Governmental Center:**  It houses the Parliament House, the President\\'s House (Rashtrapati Bhavan), the Supreme Court, and numerous ministries and government offices.\\n* **Diplomatic Enclave:**  Many embassies and high commissions are located in New Delhi.\\n* **Tourist Attractions:**  It boasts numerous historical monuments, gardens (like Lodhi Garden and Humayun\\'s Tomb), museums (like the National Museum), and bustling markets.\\n* **Cultural Hub:**  It\\'s a vibrant city with a mix of cultures, cuisines, and artistic expressions.\\n* **Rapid Development:**  New Delhi, like many large cities, is experiencing rapid development, leading to both opportunities and challenges related to infrastructure, population growth, and environmental concerns.\\n\\n\\nIn short, New Delhi is the administrative and symbolic heart of India, a planned city within a much larger and historically significant region.', additional_kwargs={}, response_metadata={'prompt_feedback': {'block_reason': 0, 'safety_ratings': []}, 'finish_reason': 'STOP', 'model_name': 'gemini-1.5-flash', 'safety_ratings': []}, id='run--cb6adc32-359f-4b90-b36e-b3c6d87d8c31-0', usage_metadata={'input_tokens': 12, 'output_tokens': 446, 'total_tokens': 458, 'input_token_details': {'cache_read': 0}})]}\n",
      "content='The capital of India is **New Delhi**.  It\\'s not just a single city, but rather a city *within* a larger city – Delhi.  To understand it, you need to grasp the distinction:\\n\\n* **Delhi:**  This is a historical region and a larger administrative territory encompassing several cities and towns.  It has a long and rich history, dating back thousands of years, and has served as a capital under various empires and dynasties.\\n\\n* **New Delhi:** This is a planned city built within the larger Delhi territory during the British Raj (British rule in India).  It became the capital of British India in 1911, and after India\\'s independence in 1947, it continued as the capital of the Republic of India.  New Delhi is more modern in its planning and architecture compared to the older parts of Delhi.\\n\\nSo, while people often use \"Delhi\" and \"New Delhi\" interchangeably,  New Delhi specifically refers to the planned city that houses the main government buildings, embassies, and many important institutions.  It\\'s characterized by wide boulevards, grand colonial-era architecture (a mix of Indo-Saracenic and other styles), and modern high-rises.\\n\\n**Key aspects of New Delhi:**\\n\\n* **Governmental Center:**  It houses the Parliament House, the President\\'s House (Rashtrapati Bhavan), the Supreme Court, and numerous ministries and government offices.\\n* **Diplomatic Enclave:**  Many embassies and high commissions are located in New Delhi.\\n* **Tourist Attractions:**  It boasts numerous historical monuments, gardens (like Lodhi Garden and Humayun\\'s Tomb), museums (like the National Museum), and bustling markets.\\n* **Cultural Hub:**  It\\'s a vibrant city with a mix of cultures, cuisines, and artistic expressions.\\n* **Rapid Development:**  New Delhi, like many large cities, is experiencing rapid development, leading to both opportunities and challenges related to infrastructure, population growth, and environmental concerns.\\n\\n\\nIn short, New Delhi is the administrative and symbolic heart of India, a planned city within a much larger and historically significant region.' additional_kwargs={} response_metadata={'prompt_feedback': {'block_reason': 0, 'safety_ratings': []}, 'finish_reason': 'STOP', 'model_name': 'gemini-1.5-flash', 'safety_ratings': []} id='run--cb6adc32-359f-4b90-b36e-b3c6d87d8c31-0' usage_metadata={'input_tokens': 12, 'output_tokens': 446, 'total_tokens': 458, 'input_token_details': {'cache_read': 0}}\n",
      "Output for the following question LLM Output Token Counter\n",
      "___________________\n",
      "{'messages': [HumanMessage(content='Total output tokens required to generate the output is 446', additional_kwargs={}, response_metadata={})]}\n"
     ]
    }
   ],
   "source": [
    "for output in app.stream({ \"messages\": [HumanMessage(content=\"What is the capital of India and could you explain about it\")]}):\n",
    "    for key, value in output.items():\n",
    "        print(f\"Output for the following question {key}\")\n",
    "        print(\"___________________\")\n",
    "        print(f\"{value}\")"
   ]
  }
 ],
 "metadata": {
  "kernelspec": {
   "display_name": "myenv",
   "language": "python",
   "name": "python3"
  },
  "language_info": {
   "codemirror_mode": {
    "name": "ipython",
    "version": 3
   },
   "file_extension": ".py",
   "mimetype": "text/x-python",
   "name": "python",
   "nbconvert_exporter": "python",
   "pygments_lexer": "ipython3",
   "version": "3.13.1"
  }
 },
 "nbformat": 4,
 "nbformat_minor": 5
}
