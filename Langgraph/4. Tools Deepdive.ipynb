{
 "cells": [
  {
   "cell_type": "code",
   "execution_count": 86,
   "id": "62c61c0d",
   "metadata": {},
   "outputs": [],
   "source": [
    "# Config the model\n",
    "from langchain_groq import ChatGroq\n",
    "llm = ChatGroq(\n",
    "    model='gemma2-9b-it'\n",
    ")"
   ]
  },
  {
   "cell_type": "code",
   "execution_count": 87,
   "id": "bfbc8b02",
   "metadata": {},
   "outputs": [],
   "source": [
    "from langchain_core.tools import tool\n",
    "\n",
    "@tool\n",
    "def multiply(a: int, b: int) -> int:\n",
    "    \"\"\"\n",
    "    Multiply two integers\n",
    "    a (int): The first integer\n",
    "    b (int): The second integer\n",
    "\n",
    "    Returns:\n",
    "        int: product of a and b\n",
    "    \"\"\"\n",
    "    return a*b\n",
    "\n",
    "@tool\n",
    "def add(a: int, b: int) -> int:\n",
    "    \"\"\"\n",
    "    add two integers\n",
    "    a (int): The first integer\n",
    "    b (int): The second integer\n",
    "\n",
    "    Returns:\n",
    "        int: sum of a and b\n",
    "    \"\"\"\n",
    "    return a + b\n",
    "\n",
    "@tool\n",
    "def divide(a: int, b: int) -> float:\n",
    "    \"\"\"\n",
    "    divide two integers\n",
    "    a (int): The numerator\n",
    "    b (int): The denominator (must not be zero)\n",
    "\n",
    "    Returns:\n",
    "        int: divide a and b\n",
    "    \"\"\"\n",
    "    if b == 0:\n",
    "        raise ValueError(\"Denominator cannot be zero.\")\n",
    "    return a / b\n",
    "\n",
    "\n"
   ]
  },
  {
   "cell_type": "code",
   "execution_count": 88,
   "id": "1f74ff6c",
   "metadata": {},
   "outputs": [],
   "source": [
    "from langchain_community.tools import DuckDuckGoSearchRun\n",
    "search = DuckDuckGoSearchRun()"
   ]
  },
  {
   "cell_type": "code",
   "execution_count": 22,
   "id": "b8b68b17",
   "metadata": {},
   "outputs": [],
   "source": [
    "tools = [multiply, add, divide, search]"
   ]
  },
  {
   "cell_type": "code",
   "execution_count": 23,
   "id": "6aace53b",
   "metadata": {},
   "outputs": [],
   "source": [
    "llm_with_tools = llm.bind_tools(tools)"
   ]
  },
  {
   "cell_type": "code",
   "execution_count": 89,
   "id": "3c9ab7ce",
   "metadata": {},
   "outputs": [],
   "source": [
    "from langgraph.graph import START, END, StateGraph, MessagesState\n",
    "from langgraph.prebuilt import ToolNode, tools_condition\n",
    "\n"
   ]
  },
  {
   "cell_type": "code",
   "execution_count": 51,
   "id": "64e86eab",
   "metadata": {},
   "outputs": [],
   "source": [
    "def fun1(state: MessagesState):\n",
    "    user_question = state['messages']\n",
    "    SYSTEM_PROMPT=\"You are a helpful assistant tasked with using search and performing arithmetic on a set of inputs.\"\n",
    "    input_question = [SYSTEM_PROMPT] + user_question\n",
    "    response = llm_with_tools.invoke(input_question)\n",
    "    return {\n",
    "        'messages': [response]\n",
    "    }\n"
   ]
  },
  {
   "cell_type": "code",
   "execution_count": 52,
   "id": "79a4027c",
   "metadata": {},
   "outputs": [],
   "source": [
    "builder = StateGraph(MessagesState)\n",
    "builder.add_node(\"LLM Decision Maker\", fun1)\n",
    "builder.add_node(\"tools\", ToolNode(tools))\n",
    "builder.set_entry_point(\"LLM Decision Maker\")\n",
    "builder.add_conditional_edges(\"LLM Decision Maker\", tools_condition,)\n",
    "builder.add_edge(\"tools\", \"LLM Decision Maker\")\n",
    "react_agent = builder.compile()"
   ]
  },
  {
   "cell_type": "code",
   "execution_count": 54,
   "id": "2559a5f3",
   "metadata": {},
   "outputs": [
    {
     "name": "stderr",
     "output_type": "stream",
     "text": [
      "/Users/suriyaa/Desktop/Agentic AI/myenv/lib/python3.13/site-packages/langchain_community/utilities/duckduckgo_search.py:63: RuntimeWarning: This package (`duckduckgo_search`) has been renamed to `ddgs`! Use `pip install ddgs` instead.\n",
      "  with DDGS() as ddgs:\n"
     ]
    }
   ],
   "source": [
    "from langchain_core.messages import HumanMessage\n",
    "response = react_agent.invoke({'messages': [HumanMessage(content = 'What is the speed of light?Additionally multiply 10 with the answer')]})"
   ]
  },
  {
   "cell_type": "code",
   "execution_count": 59,
   "id": "407fec0d",
   "metadata": {},
   "outputs": [
    {
     "name": "stdout",
     "output_type": "stream",
     "text": [
      "{'messages': [HumanMessage(content='What is the speed of light?Additionally multiply 10 with the answer', additional_kwargs={}, response_metadata={}, id='2e84d9b4-6e45-4c8c-ac71-4214f3b43709'), AIMessage(content='', additional_kwargs={'tool_calls': [{'id': 'q86qtacj1', 'function': {'arguments': '{\"query\":\"speed of light\"}', 'name': 'duckduckgo_search'}, 'type': 'function'}]}, response_metadata={'token_usage': {'completion_tokens': 86, 'prompt_tokens': 1470, 'total_tokens': 1556, 'completion_time': 0.156363636, 'prompt_time': 0.049060271, 'queue_time': 0.24734807800000003, 'total_time': 0.205423907}, 'model_name': 'gemma2-9b-it', 'system_fingerprint': 'fp_10c08bf97d', 'finish_reason': 'tool_calls', 'logprobs': None}, id='run--4e452216-2716-4da5-97e6-2cd43040b563-0', tool_calls=[{'name': 'duckduckgo_search', 'args': {'query': 'speed of light'}, 'id': 'q86qtacj1', 'type': 'tool_call'}], usage_metadata={'input_tokens': 1470, 'output_tokens': 86, 'total_tokens': 1556}), ToolMessage(content='No good DuckDuckGo Search Result was found', name='duckduckgo_search', id='2db40f5c-9f3e-4061-86e4-c2ecebd31eee', tool_call_id='q86qtacj1'), AIMessage(content='The speed of light is approximately 299,792,458 meters per second. \\n\\n10 multiplied by the speed of light is 2,997,924,580.  \\n', additional_kwargs={}, response_metadata={'token_usage': {'completion_tokens': 52, 'prompt_tokens': 1556, 'total_tokens': 1608, 'completion_time': 0.094545455, 'prompt_time': 0.065152109, 'queue_time': 0.246246762, 'total_time': 0.159697564}, 'model_name': 'gemma2-9b-it', 'system_fingerprint': 'fp_10c08bf97d', 'finish_reason': 'stop', 'logprobs': None}, id='run--ec407ee7-b0fe-4be1-aca4-d39b3b887b88-0', usage_metadata={'input_tokens': 1556, 'output_tokens': 52, 'total_tokens': 1608})]}\n"
     ]
    }
   ],
   "source": [
    "print(response)"
   ]
  },
  {
   "cell_type": "code",
   "execution_count": 60,
   "id": "94300fa3",
   "metadata": {},
   "outputs": [
    {
     "name": "stdout",
     "output_type": "stream",
     "text": [
      "{'LLM Decision Maker'}\n",
      "_____________________\n",
      "{'messages': [AIMessage(content='', additional_kwargs={'tool_calls': [{'id': '8aj2rvk2g', 'function': {'arguments': '{\"query\":\"speed of light\"}', 'name': 'duckduckgo_search'}, 'type': 'function'}]}, response_metadata={'token_usage': {'completion_tokens': 86, 'prompt_tokens': 1470, 'total_tokens': 1556, 'completion_time': 0.156363636, 'prompt_time': 0.060638345, 'queue_time': 0.246872674, 'total_time': 0.217001981}, 'model_name': 'gemma2-9b-it', 'system_fingerprint': 'fp_10c08bf97d', 'finish_reason': 'tool_calls', 'logprobs': None}, id='run--41b3c892-b80c-4758-beab-dfe00ee826e2-0', tool_calls=[{'name': 'duckduckgo_search', 'args': {'query': 'speed of light'}, 'id': '8aj2rvk2g', 'type': 'tool_call'}], usage_metadata={'input_tokens': 1470, 'output_tokens': 86, 'total_tokens': 1556})]}\n"
     ]
    },
    {
     "name": "stderr",
     "output_type": "stream",
     "text": [
      "/Users/suriyaa/Desktop/Agentic AI/myenv/lib/python3.13/site-packages/langchain_community/utilities/duckduckgo_search.py:63: RuntimeWarning: This package (`duckduckgo_search`) has been renamed to `ddgs`! Use `pip install ddgs` instead.\n",
      "  with DDGS() as ddgs:\n"
     ]
    },
    {
     "name": "stdout",
     "output_type": "stream",
     "text": [
      "{'tools'}\n",
      "_____________________\n",
      "{'messages': [ToolMessage(content=\"Dec 26, 2024 · The speed of light is the rate at which light waves propagate through different materials. In particular, the speed of light in a vacuum is defined as exactly 299,792,458 … Jan 8, 2025 · Light travels at a constant speed of 299,792,458 metres per second (approximately 300,000 kilometres per second or 186,000 miles per second). This speed is denoted by the … May 23, 2025 · The idea that light speed is the ultimate speed limit raises profound philosophical questions. It challenges our notions of absolute time and space, suggesting that reality is far … Jun 22, 2025 · The speed of light, a cornerstone of physics, continues to fascinate and challenge our understanding of the universe. Albert Einstein's theory of special relativity establishes the … Apr 14, 2025 · The speed of light is approximately 186,282 miles per second. This speed is a universal constant, playing a crucial role in various areas of physics, including relativity, which …\", name='duckduckgo_search', id='3b0bb56a-abdc-4feb-a626-685f9005af9f', tool_call_id='8aj2rvk2g')]}\n",
      "{'LLM Decision Maker'}\n",
      "_____________________\n",
      "{'messages': [AIMessage(content='', additional_kwargs={'tool_calls': [{'id': 'w4skt9wk4', 'function': {'arguments': '{\"a\":299792458,\"b\":10}', 'name': 'multiply'}, 'type': 'function'}]}, response_metadata={'token_usage': {'completion_tokens': 60, 'prompt_tokens': 1803, 'total_tokens': 1863, 'completion_time': 0.109090909, 'prompt_time': 0.074590761, 'queue_time': 0.24438802799999998, 'total_time': 0.18368167}, 'model_name': 'gemma2-9b-it', 'system_fingerprint': 'fp_10c08bf97d', 'finish_reason': 'tool_calls', 'logprobs': None}, id='run--38d9ba4f-0033-4afd-bcc3-04563d58cdd7-0', tool_calls=[{'name': 'multiply', 'args': {'a': 299792458, 'b': 10}, 'id': 'w4skt9wk4', 'type': 'tool_call'}], usage_metadata={'input_tokens': 1803, 'output_tokens': 60, 'total_tokens': 1863})]}\n",
      "{'tools'}\n",
      "_____________________\n",
      "{'messages': [ToolMessage(content='2997924580', name='multiply', id='30b027d1-d0d0-4e39-9b68-464c5ad942b8', tool_call_id='w4skt9wk4')]}\n",
      "{'LLM Decision Maker'}\n",
      "_____________________\n",
      "{'messages': [AIMessage(content='The speed of light multiplied by 10 is 2997924580.', additional_kwargs={}, response_metadata={'token_usage': {'completion_tokens': 24, 'prompt_tokens': 1898, 'total_tokens': 1922, 'completion_time': 0.043636364, 'prompt_time': 0.104165591, 'queue_time': 0.24664318899999998, 'total_time': 0.147801955}, 'model_name': 'gemma2-9b-it', 'system_fingerprint': 'fp_10c08bf97d', 'finish_reason': 'stop', 'logprobs': None}, id='run--94216897-c112-4bd4-a266-782042a32235-0', usage_metadata={'input_tokens': 1898, 'output_tokens': 24, 'total_tokens': 1922})]}\n"
     ]
    }
   ],
   "source": [
    "for output in react_agent.stream({'messages': [HumanMessage(content = 'What is the speed of light?Additionally multiply 10 with the answer')]}):\n",
    "    for key, value in output.items():\n",
    "        print({key})\n",
    "        print('_____________________')\n",
    "        print(value)"
   ]
  },
  {
   "cell_type": "markdown",
   "id": "80a697be",
   "metadata": {},
   "source": [
    "{'messages': \n",
    "    [HumanMessage(content='What is the speed of light?Additionally multiply 10 with the answer', additional_kwargs={}, response_metadata={}, id='2e84d9b4-6e45-4c8c-ac71-4214f3b43709'), AIMessage(content='', additional_kwargs={'tool_calls': [{'id': 'q86qtacj1', 'function': {'arguments': '{\"query\":\"speed of light\"}', 'name': 'duckduckgo_search'}, 'type': 'function'}]}, response_metadata={'token_usage': {'completion_tokens': 86, 'prompt_tokens': 1470, 'total_tokens': 1556, 'completion_time': 0.156363636, 'prompt_time': 0.049060271, 'queue_time': 0.24734807800000003, 'total_time': 0.205423907}, 'model_name': 'gemma2-9b-it', 'system_fingerprint': 'fp_10c08bf97d', 'finish_reason': 'tool_calls', 'logprobs': None}, id='run--4e452216-2716-4da5-97e6-2cd43040b563-0', tool_calls=[{'name': 'duckduckgo_search', 'args': {'query': 'speed of light'}, 'id': 'q86qtacj1', 'type': 'tool_call'}], usage_metadata={'input_tokens': 1470, 'output_tokens': 86, 'total_tokens': 1556}), ToolMessage(content='No good DuckDuckGo Search Result was found', name='duckduckgo_search', id='2db40f5c-9f3e-4061-86e4-c2ecebd31eee', tool_call_id='q86qtacj1'), AIMessage(content='The speed of light is approximately 299,792,458 meters per second. \\n\\n10 multiplied by the speed of light is 2,997,924,580.  \\n', additional_kwargs={}, response_metadata={'token_usage': {'completion_tokens': 52, 'prompt_tokens': 1556, 'total_tokens': 1608, 'completion_time': 0.094545455, 'prompt_time': 0.065152109, 'queue_time': 0.246246762, 'total_time': 0.159697564}, 'model_name': 'gemma2-9b-it', 'system_fingerprint': 'fp_10c08bf97d', 'finish_reason': 'stop', 'logprobs': None}, id='run--ec407ee7-b0fe-4be1-aca4-d39b3b887b88-0', usage_metadata={'input_tokens': 1556, 'output_tokens': 52, 'total_tokens': 1608})]\n",
    "}"
   ]
  },
  {
   "cell_type": "code",
   "execution_count": 61,
   "id": "026ee3b0",
   "metadata": {},
   "outputs": [
    {
     "name": "stdout",
     "output_type": "stream",
     "text": [
      "================================\u001b[1m Human Message \u001b[0m=================================\n",
      "\n",
      "What is the speed of light?Additionally multiply 10 with the answer\n",
      "==================================\u001b[1m Ai Message \u001b[0m==================================\n",
      "Tool Calls:\n",
      "  duckduckgo_search (q86qtacj1)\n",
      " Call ID: q86qtacj1\n",
      "  Args:\n",
      "    query: speed of light\n",
      "=================================\u001b[1m Tool Message \u001b[0m=================================\n",
      "Name: duckduckgo_search\n",
      "\n",
      "No good DuckDuckGo Search Result was found\n",
      "==================================\u001b[1m Ai Message \u001b[0m==================================\n",
      "\n",
      "The speed of light is approximately 299,792,458 meters per second. \n",
      "\n",
      "10 multiplied by the speed of light is 2,997,924,580.\n"
     ]
    }
   ],
   "source": [
    "for m in response[\"messages\"]:\n",
    "    m.pretty_print()"
   ]
  },
  {
   "cell_type": "code",
   "execution_count": 81,
   "id": "4daee80c",
   "metadata": {},
   "outputs": [],
   "source": [
    "import yfinance as yf\n",
    "from langchain_community.tools.yahoo_finance_news import YahooFinanceNewsTool\n",
    "\n",
    "@tool\n",
    "def get_stock_price(ticker:str)->str:\n",
    "    \"\"\"\n",
    "    Fetches the previous closing price of a given stock ticker from Yahoo Finance.\n",
    "\n",
    "    Args:\n",
    "        ticker (str): The stock ticker symbol (e.g., 'AAPL', 'TSLA', 'NIFTY.BO').\n",
    "\n",
    "    Returns:\n",
    "        str: A message with the stock's previous closing price.\n",
    "    \"\"\"\n",
    "    try:\n",
    "        stock = yf.Ticker(ticker)\n",
    "        price = stock.info.get('previousClose')\n",
    "        if price is None:\n",
    "            return f\"Could not fetch price for ticker '{ticker}'.\"\n",
    "        return f\"The last closing price of {ticker.upper()} was ${price:.2f}.\"\n",
    "    except Exception as e:\n",
    "        return f\"An error occurred while fetching stock data: {str(e)}\"\n"
   ]
  },
  {
   "cell_type": "code",
   "execution_count": 90,
   "id": "55925c4a",
   "metadata": {},
   "outputs": [],
   "source": [
    "tools = [multiply, add, divide, search, get_stock_price]"
   ]
  },
  {
   "cell_type": "code",
   "execution_count": 91,
   "id": "9dfa10bf",
   "metadata": {},
   "outputs": [],
   "source": [
    "llm_with_tools = llm.bind_tools(tools)\n",
    "response = llm_with_tools.invoke(f'What is the stock price of Apple computers')"
   ]
  },
  {
   "cell_type": "code",
   "execution_count": 94,
   "id": "f40de90e",
   "metadata": {},
   "outputs": [],
   "source": [
    "builder = StateGraph(MessagesState)\n",
    "builder.add_node(\"LLM Decision Maker\", fun1)\n",
    "builder.add_node(\"tools\", ToolNode(tools))\n",
    "builder.set_entry_point(\"LLM Decision Maker\")\n",
    "builder.add_conditional_edges(\"LLM Decision Maker\", tools_condition,)\n",
    "builder.add_edge(\"tools\", \"LLM Decision Maker\")\n",
    "react_agent = builder.compile()"
   ]
  },
  {
   "cell_type": "code",
   "execution_count": 84,
   "id": "69412edd",
   "metadata": {},
   "outputs": [
    {
     "data": {
      "image/png": "[encoded data removed]",
      "text/plain": [
       "<IPython.core.display.Image object>"
      ]
     },
     "metadata": {},
     "output_type": "display_data"
    }
   ],
   "source": [
    "from IPython.display import display, Image\n",
    "display(Image(react_agent.get_graph().draw_mermaid_png()))"
   ]
  },
  {
   "cell_type": "code",
   "execution_count": 99,
   "id": "c013b5cb",
   "metadata": {},
   "outputs": [
    {
     "name": "stderr",
     "output_type": "stream",
     "text": [
      "/Users/suriyaa/Desktop/Agentic AI/myenv/lib/python3.13/site-packages/langchain_community/utilities/duckduckgo_search.py:63: RuntimeWarning: This package (`duckduckgo_search`) has been renamed to `ddgs`! Use `pip install ddgs` instead.\n",
      "  with DDGS() as ddgs:\n",
      "/Users/suriyaa/Desktop/Agentic AI/myenv/lib/python3.13/site-packages/httpcore/_trace.py:12: ResourceWarning: unclosed database in <sqlite3.Connection object at 0x17533aa70>\n",
      "  def __init__(\n",
      "ResourceWarning: Enable tracemalloc to get the object allocation traceback\n"
     ]
    }
   ],
   "source": [
    "response = react_agent.invoke({\"messages\":['what is age of Indian Prime Minister Shri Narendra Mode ? Give me an answer multiplying the number with 2']})"
   ]
  },
  {
   "cell_type": "code",
   "execution_count": 100,
   "id": "2491b89d",
   "metadata": {},
   "outputs": [
    {
     "data": {
      "text/plain": [
       "{'messages': [HumanMessage(content='what is age of Indian Prime Minister Shri Narendra Mode ? Give me an answer multiplying the number with 2', additional_kwargs={}, response_metadata={}, id='e967e881-1aa7-4691-b462-1e6ba5936424'),\n",
       "  AIMessage(content='', additional_kwargs={'tool_calls': [{'id': 'fbdbbfat7', 'function': {'arguments': '{\"query\":\"age of Narendra Modi\"}', 'name': 'duckduckgo_search'}, 'type': 'function'}]}, response_metadata={'token_usage': {'completion_tokens': 87, 'prompt_tokens': 1644, 'total_tokens': 1731, 'completion_time': 0.158181818, 'prompt_time': 0.05520911, 'queue_time': 0.25889518899999997, 'total_time': 0.213390928}, 'model_name': 'gemma2-9b-it', 'system_fingerprint': 'fp_10c08bf97d', 'finish_reason': 'tool_calls', 'logprobs': None}, id='run--3a000b45-ff41-45c7-afcf-ad8ed5a9fc4d-0', tool_calls=[{'name': 'duckduckgo_search', 'args': {'query': 'age of Narendra Modi'}, 'id': 'fbdbbfat7', 'type': 'tool_call'}], usage_metadata={'input_tokens': 1644, 'output_tokens': 87, 'total_tokens': 1731}),\n",
       "  ToolMessage(content=\"v t e Narendra Damodardas Modi[a](born 17 September 1950) is an Indian politician who has served as the prime minister of Indiasince 2014. Modi was the chief minister of Gujaratfrom 2001 to 2014 … Narendra Modi, an Indian Politician and the 14th Prime Minister of India. Check this page to read Narendra Modi's Biography- his age, wife, caste, career, childhood, family & much more Narendra Damodardas Modi was born on Sunday, 17 September 1950 (age 74 years; as of 2024) in Vadnagar, Bombay State (now Gujarat), India. He did his schooling from Higher Secondary … Jul 1, 2025 · Narendra Modi (born September 17, 1950, Vadnagar, India) is an Indian politician and government official who rose to become a senior leader of the Bharatiya Janata Party (BJP). In … Narendra Damodardas Modi[a] (born 17 September 1950) is an Indian politician who is the 14th and current Prime Minister of India since 2014. He was previously the Chief Minister of the state of …\", name='duckduckgo_search', id='46705987-7921-480b-86bf-14a3f1ba6f89', tool_call_id='fbdbbfat7'),\n",
       "  AIMessage(content='', additional_kwargs={'tool_calls': [{'id': '3nyymaa4y', 'function': {'arguments': '{\"a\":74,\"b\":2}', 'name': 'multiply'}, 'type': 'function'}]}, response_metadata={'token_usage': {'completion_tokens': 51, 'prompt_tokens': 1991, 'total_tokens': 2042, 'completion_time': 0.092727273, 'prompt_time': 0.111074695, 'queue_time': 0.275366094, 'total_time': 0.203801968}, 'model_name': 'gemma2-9b-it', 'system_fingerprint': 'fp_10c08bf97d', 'finish_reason': 'tool_calls', 'logprobs': None}, id='run--3bd47ee3-83a1-4401-9a75-dc83a7ecbdbb-0', tool_calls=[{'name': 'multiply', 'args': {'a': 74, 'b': 2}, 'id': '3nyymaa4y', 'type': 'tool_call'}], usage_metadata={'input_tokens': 1991, 'output_tokens': 51, 'total_tokens': 2042}),\n",
       "  ToolMessage(content='148', name='multiply', id='2a59a9ea-c624-4d83-9f35-ae286bc3d429', tool_call_id='3nyymaa4y'),\n",
       "  AIMessage(content='148', additional_kwargs={}, response_metadata={'token_usage': {'completion_tokens': 5, 'prompt_tokens': 2069, 'total_tokens': 2074, 'completion_time': 0.009090909, 'prompt_time': 0.069010969, 'queue_time': 0.26101426399999994, 'total_time': 0.078101878}, 'model_name': 'gemma2-9b-it', 'system_fingerprint': 'fp_10c08bf97d', 'finish_reason': 'stop', 'logprobs': None}, id='run--58305046-6490-45f9-8cc5-d6bcd46ae9d2-0', usage_metadata={'input_tokens': 2069, 'output_tokens': 5, 'total_tokens': 2074})]}"
      ]
     },
     "execution_count": 100,
     "metadata": {},
     "output_type": "execute_result"
    }
   ],
   "source": [
    "response"
   ]
  },
  {
   "cell_type": "markdown",
   "id": "3a8b5bbc",
   "metadata": {},
   "source": []
  },
  {
   "cell_type": "code",
   "execution_count": 101,
   "id": "84b69047",
   "metadata": {},
   "outputs": [
    {
     "name": "stdout",
     "output_type": "stream",
     "text": [
      "================================\u001b[1m Human Message \u001b[0m=================================\n",
      "\n",
      "what is age of Indian Prime Minister Shri Narendra Mode ? Give me an answer multiplying the number with 2\n",
      "==================================\u001b[1m Ai Message \u001b[0m==================================\n",
      "Tool Calls:\n",
      "  duckduckgo_search (fbdbbfat7)\n",
      " Call ID: fbdbbfat7\n",
      "  Args:\n",
      "    query: age of Narendra Modi\n",
      "=================================\u001b[1m Tool Message \u001b[0m=================================\n",
      "Name: duckduckgo_search\n",
      "\n",
      "v t e Narendra Damodardas Modi[a](born 17 September 1950) is an Indian politician who has served as the prime minister of Indiasince 2014. Modi was the chief minister of Gujaratfrom 2001 to 2014 … Narendra Modi, an Indian Politician and the 14th Prime Minister of India. Check this page to read Narendra Modi's Biography- his age, wife, caste, career, childhood, family & much more Narendra Damodardas Modi was born on Sunday, 17 September 1950 (age 74 years; as of 2024) in Vadnagar, Bombay State (now Gujarat), India. He did his schooling from Higher Secondary … Jul 1, 2025 · Narendra Modi (born September 17, 1950, Vadnagar, India) is an Indian politician and government official who rose to become a senior leader of the Bharatiya Janata Party (BJP). In … Narendra Damodardas Modi[a] (born 17 September 1950) is an Indian politician who is the 14th and current Prime Minister of India since 2014. He was previously the Chief Minister of the state of …\n",
      "==================================\u001b[1m Ai Message \u001b[0m==================================\n",
      "Tool Calls:\n",
      "  multiply (3nyymaa4y)\n",
      " Call ID: 3nyymaa4y\n",
      "  Args:\n",
      "    a: 74\n",
      "    b: 2\n",
      "=================================\u001b[1m Tool Message \u001b[0m=================================\n",
      "Name: multiply\n",
      "\n",
      "148\n",
      "==================================\u001b[1m Ai Message \u001b[0m==================================\n",
      "\n",
      "148\n"
     ]
    }
   ],
   "source": [
    "for m in response['messages']:\n",
    "  m.pretty_print()"
   ]
  }
 ],
 "metadata": {
  "kernelspec": {
   "display_name": "myenv",
   "language": "python",
   "name": "python3"
  },
  "language_info": {
   "codemirror_mode": {
    "name": "ipython",
    "version": 3
   },
   "file_extension": ".py",
   "mimetype": "text/x-python",
   "name": "python",
   "nbconvert_exporter": "python",
   "pygments_lexer": "ipython3",
   "version": "3.13.1"
  }
 },
 "nbformat": 4,
 "nbformat_minor": 5
}
